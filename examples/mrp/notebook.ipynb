{
 "cells": [
  {
   "cell_type": "code",
   "execution_count": 1,
   "id": "a50b863b-e552-421d-b654-ecd2ac6632cd",
   "metadata": {},
   "outputs": [],
   "source": [
    "%load_ext autoreload\n",
    "%autoreload 2"
   ]
  },
  {
   "cell_type": "code",
   "execution_count": 8,
   "id": "1c0e3087-4e8f-4200-b41a-8948360e1ce0",
   "metadata": {},
   "outputs": [],
   "source": [
    "from iipyper import OSC\n",
    "from mrp import MRP\n",
    "host=\"127.0.0.1\"\n",
    "receive_port=8888\n",
    "send_port=7777\n",
    "osc = OSC(host, receive_port, send_port)"
   ]
  },
  {
   "cell_type": "code",
   "execution_count": 9,
   "id": "66a5140d-d833-4d78-9495-e1baf79e767d",
   "metadata": {},
   "outputs": [
    {
     "name": "stdout",
     "output_type": "stream",
     "text": [
      "88 notes created.\n"
     ]
    }
   ],
   "source": [
    "mrp = MRP(osc)"
   ]
  },
  {
   "cell_type": "code",
   "execution_count": 10,
   "id": "68796109-2858-4856-b1b1-e9bd0a7f5093",
   "metadata": {},
   "outputs": [],
   "source": [
    "note = 60\n",
    "velocity = 64"
   ]
  },
  {
   "cell_type": "code",
   "execution_count": 11,
   "id": "07b1d905-6973-4bac-9916-220601fa18e7",
   "metadata": {},
   "outputs": [
    {
     "name": "stdout",
     "output_type": "stream",
     "text": [
      "/mrp/midi Note On: 60 , Velocity: 64\n"
     ]
    },
    {
     "ename": "StopIteration",
     "evalue": "",
     "output_type": "error",
     "traceback": [
      "\u001b[0;31m---------------------------------------------------------------------------\u001b[0m",
      "\u001b[0;31mStopIteration\u001b[0m                             Traceback (most recent call last)",
      "Input \u001b[0;32mIn [11]\u001b[0m, in \u001b[0;36m<cell line: 1>\u001b[0;34m()\u001b[0m\n\u001b[0;32m----> 1\u001b[0m \u001b[43mmrp\u001b[49m\u001b[38;5;241;43m.\u001b[39;49m\u001b[43mnote_on\u001b[49m\u001b[43m(\u001b[49m\u001b[43mnote\u001b[49m\u001b[43m,\u001b[49m\u001b[43m \u001b[49m\u001b[43mvelocity\u001b[49m\u001b[43m)\u001b[49m\n",
      "File \u001b[0;32m~/Documents/git/pro/iil/py/iil-python-tools/examples/mrp/mrp.py:126\u001b[0m, in \u001b[0;36mnote_on\u001b[0;34m(self, note, velocity, channel)\u001b[0m\n\u001b[1;32m    124\u001b[0m     path = self.osc_paths['midi']\n\u001b[1;32m    125\u001b[0m     print(path, 'Note On:', note, ', Velocity:', velocity)\n\u001b[0;32m--> 126\u001b[0m     self.osc.send(path, *m.bytes())\n\u001b[1;32m    127\u001b[0m     return tmp, m\n\u001b[1;32m    128\u001b[0m else:\n",
      "File \u001b[0;32m~/Documents/git/pro/iil/py/iil-python-tools/iipyper/iipyper/osc.py:176\u001b[0m, in \u001b[0;36mOSC.send\u001b[0;34m(self, route, client, *msg)\u001b[0m\n\u001b[1;32m    174\u001b[0m         \u001b[38;5;28mprint\u001b[39m(\u001b[38;5;124mf\u001b[39m\u001b[38;5;124m'\u001b[39m\u001b[38;5;124mfailed to get client address from OSC route \u001b[39m\u001b[38;5;124m\"\u001b[39m\u001b[38;5;132;01m{\u001b[39;00mroute\u001b[38;5;132;01m}\u001b[39;00m\u001b[38;5;124m\"\u001b[39m\u001b[38;5;124m'\u001b[39m)\n\u001b[1;32m    175\u001b[0m \u001b[38;5;28;01melse\u001b[39;00m:\n\u001b[0;32m--> 176\u001b[0m     client \u001b[38;5;241m=\u001b[39m \u001b[38;5;28;43mnext\u001b[39;49m\u001b[43m(\u001b[49m\u001b[38;5;28;43miter\u001b[39;49m\u001b[43m(\u001b[49m\u001b[38;5;28;43mself\u001b[39;49m\u001b[38;5;241;43m.\u001b[39;49m\u001b[43mclients\u001b[49m\u001b[38;5;241;43m.\u001b[39;49m\u001b[43mvalues\u001b[49m\u001b[43m(\u001b[49m\u001b[43m)\u001b[49m\u001b[43m)\u001b[49m\u001b[43m)\u001b[49m\n\u001b[1;32m    178\u001b[0m \u001b[38;5;28;01mif\u001b[39;00m client \u001b[38;5;129;01mis\u001b[39;00m \u001b[38;5;28;01mNone\u001b[39;00m:\n\u001b[1;32m    179\u001b[0m     \u001b[38;5;28mprint\u001b[39m(\u001b[38;5;124mf\u001b[39m\u001b[38;5;124m'\u001b[39m\u001b[38;5;124mOSC message failed to send, could not determine client\u001b[39m\u001b[38;5;124m'\u001b[39m)\n",
      "\u001b[0;31mStopIteration\u001b[0m: "
     ]
    }
   ],
   "source": [
    "mrp.note_on(note, velocity)"
   ]
  },
  {
   "cell_type": "code",
   "execution_count": 9,
   "id": "261198e9-dc20-413e-b86e-d3494ccc3ebf",
   "metadata": {},
   "outputs": [],
   "source": [
    "mrp.quality_brightness(note, 0)\n",
    "mrp.quality_intensity(note, 0)\n",
    "mrp.quality_pitch(note, 0)\n",
    "mrp.quality_pitch_vibrato(note, 0)\n",
    "mrp.quality_harmonic(note, 0)\n",
    "mrp.quality_harmonics_raw(note, [0,0,0])"
   ]
  },
  {
   "cell_type": "code",
   "execution_count": 20,
   "id": "edc2b32d-4aad-488b-8425-5608752a44f1",
   "metadata": {},
   "outputs": [
    {
     "name": "stdout",
     "output_type": "stream",
     "text": [
      "/mrp/midi 143 60 0\n"
     ]
    },
    {
     "data": {
      "text/plain": [
       "({'channel': 15,\n",
       "  'status': False,\n",
       "  'midi': {'note': 60,\n",
       "   'velocity': 0,\n",
       "   'aftertouch_poly': 0,\n",
       "   'aftertouch_channel': 0,\n",
       "   'pitch_bend': 0},\n",
       "  'qualities': {'brightness': 0,\n",
       "   'intensity': 0,\n",
       "   'pitch': 0,\n",
       "   'pitch_vibrato': 0,\n",
       "   'harmonic': 0,\n",
       "   'harmonics_raw': 0}},\n",
       " Message('note_off', channel=15, note=60, velocity=0, time=0))"
      ]
     },
     "execution_count": 20,
     "metadata": {},
     "output_type": "execute_result"
    }
   ],
   "source": [
    "mrp.note_off(note,0)"
   ]
  },
  {
   "cell_type": "code",
   "execution_count": null,
   "id": "88385e06-c6f1-40c4-b72b-9882d91ee0fe",
   "metadata": {},
   "outputs": [],
   "source": [
    "mrp.notes[0]"
   ]
  },
  {
   "cell_type": "markdown",
   "id": "baf13c13-798f-4d1f-9ffa-90a99eadc2c4",
   "metadata": {
    "jp-MarkdownHeadingCollapsed": true,
    "tags": []
   },
   "source": [
    "# MRP XML\n",
    "- Docs: https://docs.python.org/3/library/xml.etree.elementtree.html"
   ]
  },
  {
   "cell_type": "code",
   "execution_count": null,
   "id": "d2259e68-f5ff-47cc-8eac-e9fdac2d359b",
   "metadata": {},
   "outputs": [],
   "source": [
    "import xml.etree.ElementTree as ET\n",
    "tree = ET.parse('mrp-standard.xml')\n",
    "root = tree.getroot()"
   ]
  },
  {
   "cell_type": "code",
   "execution_count": null,
   "id": "ed004ac3-e470-40aa-b357-9c4e196a7b33",
   "metadata": {},
   "outputs": [],
   "source": [
    "root.tag"
   ]
  },
  {
   "cell_type": "code",
   "execution_count": null,
   "id": "155f5ffb-d253-48d5-b4ba-9019e5d33070",
   "metadata": {},
   "outputs": [],
   "source": [
    "root.attrib"
   ]
  },
  {
   "cell_type": "code",
   "execution_count": null,
   "id": "8f79e6d0-55ab-4672-80ef-3848a126c0a8",
   "metadata": {},
   "outputs": [],
   "source": [
    "root[0][1].text"
   ]
  },
  {
   "cell_type": "code",
   "execution_count": null,
   "id": "34952e2f-b4bf-4ea6-973b-e1a85edd7f5a",
   "metadata": {},
   "outputs": [],
   "source": [
    "for child in root:\n",
    "    print(child.tag, child.attrib)"
   ]
  },
  {
   "cell_type": "code",
   "execution_count": null,
   "id": "1dbd10ef-12be-4e27-aaba-109fcd66210f",
   "metadata": {},
   "outputs": [],
   "source": []
  }
 ],
 "metadata": {
  "kernelspec": {
   "display_name": "iil-python-tools-kernel",
   "language": "python",
   "name": "iil-python-tools-kernel"
  },
  "language_info": {
   "codemirror_mode": {
    "name": "ipython",
    "version": 3
   },
   "file_extension": ".py",
   "mimetype": "text/x-python",
   "name": "python",
   "nbconvert_exporter": "python",
   "pygments_lexer": "ipython3",
   "version": "3.10.5"
  }
 },
 "nbformat": 4,
 "nbformat_minor": 5
}
