{
 "cells": [
  {
   "cell_type": "code",
   "execution_count": 1,
   "id": "a50b863b-e552-421d-b654-ecd2ac6632cd",
   "metadata": {},
   "outputs": [],
   "source": [
    "%load_ext autoreload\n",
    "%autoreload 2"
   ]
  },
  {
   "cell_type": "code",
   "execution_count": 3,
   "id": "759af73e-0f13-493f-b711-08b7df33d0ae",
   "metadata": {},
   "outputs": [
    {
     "name": "stdout",
     "output_type": "stream",
     "text": [
      "88 notes created.\n"
     ]
    }
   ],
   "source": [
    "from iipyper import OSC\n",
    "from mrp import MRP\n",
    "host=\"127.0.0.1\"\n",
    "receive_port=8888\n",
    "send_port=7777\n",
    "osc = OSC(host, receive_port, send_port)\n",
    "mrp = MRP(osc)"
   ]
  },
  {
   "cell_type": "code",
   "execution_count": 4,
   "id": "866e294f-c8cb-4036-bbb9-d22410130769",
   "metadata": {},
   "outputs": [],
   "source": [
    "import mido"
   ]
  },
  {
   "cell_type": "markdown",
   "id": "b2ba5415-57b2-4c55-a49e-b73c8007414f",
   "metadata": {},
   "source": [
    "- init:\n",
    "    + allocate `self.polyphony` notes\n",
    "- note_on:\n",
    "    + if channel has active note, send note off, create new note"
   ]
  },
  {
   "cell_type": "code",
   "execution_count": null,
   "id": "01a70af5-76ed-4335-8a36-4471e6303f39",
   "metadata": {
    "jupyter": {
     "source_hidden": true
    },
    "tags": []
   },
   "outputs": [],
   "source": [
    "class MRP(object):\n",
    "    \n",
    "    def __init__(self, _osc):\n",
    "        self.polyphony = 10\n",
    "        self.osc = _osc\n",
    "        self.notes = []\n",
    "        self.pedal = {\n",
    "            'damper': 0,\n",
    "            'sostenuto': 0\n",
    "        }\n",
    "        self.program = 0\n",
    "\n",
    "    def new_note(channel, note, velocity):\n",
    "        return {\n",
    "            'channel': channel,\n",
    "            'status': True,\n",
    "            'midi': {\n",
    "                'note': note,\n",
    "                'velocity': velocity,\n",
    "                'aftertouch_poly': 0,\n",
    "                'aftertouch_channel': 0\n",
    "                'pitch_bend': 0\n",
    "            }\n",
    "            'qualities': {\n",
    "                'brightness': 0,\n",
    "                'intensity': 0,\n",
    "                'pitch': 0,\n",
    "                'pitch_vibrato': 0,\n",
    "                'harmonic': 0,\n",
    "                'harmonics_raw': 0\n",
    "            }\n",
    "        }\n",
    " \n",
    "    \"\"\"\n",
    "    /mrp/midi\n",
    "    \"\"\"\n",
    "    def note_on(self, channel, note, velocity):\n",
    "        \"\"\"\n",
    "        construct a Note On message\n",
    "        add it to the notes array\n",
    "        send it over OSC\n",
    "        TODO: manage polyphony\n",
    "        \"\"\"\n",
    "        c = [note['midi']['channel'] for note in self.notes]\n",
    "        m = mido.Message(\n",
    "            'note_on',\n",
    "            channel=channel,\n",
    "            note=note,\n",
    "            velocity=velocity\n",
    "        )\n",
    "        note = new_note(channel, note, velocity)\n",
    "        self.notes.append(m)\n",
    "        print(\"/mrp/midi\", *m.bytes())\n",
    "        # self.osc.send(\"/mrp/midi\", *m.bytes())\n",
    "        \n",
    "    def note_off(self, channel, note):\n",
    "        \"\"\"\n",
    "        construct a Note Off message\n",
    "        find and remove it from the notes array\n",
    "        send it over OSC\n",
    "        \"\"\"\n",
    "        m = mido.Message(\n",
    "            'note_off',\n",
    "            channel=channel,\n",
    "            note=note\n",
    "        )\n",
    "        print(\"/mrp/midi\", *m.bytes())\n",
    "        # self.osc.send(\"/mrp/midi\", channel, note)\n",
    "    \n",
    "    def note_aftertouch_poly(self, channel, note, value):\n",
    "        \"\"\"\n",
    "        check if note is active\n",
    "        \"\"\"\n",
    "        m = mido.Message(\n",
    "            'polytouch',\n",
    "            channel=channel,\n",
    "            note=note,\n",
    "            value=value\n",
    "        )\n",
    "        print(\"/mrp/midi\", *m.bytes())\n",
    "        # self.osc.send(\"/mrp/midi\", *m.bytes())\n",
    "    \n",
    "    def note_aftertouch_channel(self, channel, value):\n",
    "        \"\"\"\n",
    "        check if note is active\n",
    "        \"\"\"\n",
    "        m = mido.Message(\n",
    "            'aftertouch',\n",
    "            channel=channel,\n",
    "            value=value\n",
    "        )\n",
    "        print(\"/mrp/midi\")\n",
    "        # self.osc.send(\"/mrp/midi\", *m.bytes())\n",
    "        \n",
    "    def note_pitch_bend(self, channel, pitch):\n",
    "        \"\"\"\n",
    "        check if note is active\n",
    "        \"\"\"\n",
    "        m = mido.Message(\n",
    "            'pitchwheel',\n",
    "            channel=channel,\n",
    "            pitch=pitch\n",
    "        )\n",
    "        print(\"/mrp/midi\", *m.bytes())\n",
    "        # self.osc.send(\"/mrp/midi\", *m.bytes())\n",
    "    \n",
    "    def control_change(self, channel, controller, value):\n",
    "        \"\"\"\n",
    "        \"\"\"\n",
    "        m = mido.Message(\n",
    "            'control_change',\n",
    "            channel=channel,\n",
    "            controller=controller,\n",
    "            value=value\n",
    "        )\n",
    "        print(\"/mrp/midi\", *m.bytes())\n",
    "        # self.osc.send(\"/mrp/midi\", *m.bytes())\n",
    "\n",
    "    def program_change(self, channel, program):\n",
    "        \"\"\"\n",
    "        \"\"\"\n",
    "        m = mido.Message(\n",
    "            'program_change',\n",
    "            channel=channel,\n",
    "            program=program\n",
    "        )\n",
    "        print(\"/mrp/midi\", *m.bytes())\n",
    "        # self.osc.send(\"/mrp/midi\", *m.bytes())\n",
    "    \n",
    "    \"\"\"\n",
    "    /mrp/qualities\n",
    "    \"\"\"\n",
    "    def quality_brightness(self, channel, note, brightness):\n",
    "        \"\"\"\n",
    "        brightness is an independent map to harmonic content, \n",
    "        reduced to a linear scale\n",
    "        \"\"\"\n",
    "        print(\"/quality/brightness\", channel, note, brightness)\n",
    "        # self.osc.send(\"/quality/brightness\", channel, note, brightness)\n",
    "\n",
    "    def quality_intensity(self, channel, note, intensity):\n",
    "        \"\"\"\n",
    "        intensity is a map to amplitude and harmonic content, \n",
    "        relative to the current intensity\n",
    "        \"\"\"\n",
    "        print(\"/quality/intensity\", channel, note, intensity)\n",
    "        # self.osc.send(\"/quality/intensity\", channel, note, intensity)\n",
    "\n",
    "    def quality_pitch(self, channel, note, pitch):\n",
    "        \"\"\"\n",
    "        Frequency base is relative to the fundamental frequency of the MIDI note\n",
    "        \"\"\"\n",
    "        print(\"/quality/pitch\", channel, note, pitch)\n",
    "        # self.osc.send(\"/quality/pitch\", channel, note, pitch)\n",
    "\n",
    "    def quality_pitch_vibrato(self, channel, note, pitch):\n",
    "        \"\"\"\n",
    "        Frequency vibrato is a periodic modulation in frequency, \n",
    "        zero-centered (+/-1 maps to range)\n",
    "        \"\"\"\n",
    "        print(\"/quality/pitch/vibrato\", channel, note, pitch)\n",
    "        # self.osc.send(\"/quality/pitch/vibrato\", channel, note, pitch)\n",
    "\n",
    "    def quality_harmonic(self, channel, note, harmonic):\n",
    "        \"\"\"\n",
    "        ???\n",
    "        \"\"\"\n",
    "        print(\"/quality/harmonic\", channel, note, harmonic)\n",
    "        # self.osc.send(\"/quality/harmonic\", channel, note, harmonic)\n",
    "\n",
    "    def quality_harmonics_raw(self, channel, note, harmonics):\n",
    "        \"\"\"\n",
    "        ???\n",
    "        \"\"\"\n",
    "        print(\"/quality/harmonics/raw\", channel, note, harmonics)\n",
    "        # self.osc.send(\"/quality/harmonics/raw\", channel, note, harmonics)\n",
    "        \n",
    "    \"\"\"\n",
    "    /mrp/pedal\n",
    "    \"\"\"\n",
    "    def pedal_sostenuto(self, sostenuto):\n",
    "        \"\"\"\n",
    "        set pedal sostenuto value\n",
    "        \"\"\"\n",
    "        self.pedal.sostenuto = sostenuto\n",
    "        print(\"/mrp/sostenuto/damper\", sostenuto)\n",
    "        # self.osc.send(\"/mrp/pedal/sostenuto\", sostenuto)\n",
    "\n",
    "    def pedal_damper(self, damper):\n",
    "        \"\"\"\n",
    "        set pedal damper value\n",
    "        \"\"\"\n",
    "        self.pedal.damper = damper\n",
    "        print(\"/mrp/pedal/damper\", damper)\n",
    "        # self.osc.send(\"/mrp/pedal/damper\", damper)\n",
    "\n",
    "    def all_notes_off(self):\n",
    "        print(\"/mrp/allnotesoff\")\n",
    "        # self.osc.send(\"/mrp/allnotesoff\")\n",
    "\n",
    "mrp = MRP(osc)"
   ]
  },
  {
   "cell_type": "code",
   "execution_count": 9,
   "id": "68796109-2858-4856-b1b1-e9bd0a7f5093",
   "metadata": {},
   "outputs": [],
   "source": [
    "note = 60\n",
    "velocity = 64"
   ]
  },
  {
   "cell_type": "code",
   "execution_count": 19,
   "id": "07b1d905-6973-4bac-9916-220601fa18e7",
   "metadata": {},
   "outputs": [
    {
     "name": "stdout",
     "output_type": "stream",
     "text": [
      "/mrp/midi 159 60 64\n"
     ]
    },
    {
     "data": {
      "text/plain": [
       "({'channel': 15,\n",
       "  'status': True,\n",
       "  'midi': {'note': 60,\n",
       "   'velocity': 64,\n",
       "   'aftertouch_poly': 0,\n",
       "   'aftertouch_channel': 0,\n",
       "   'pitch_bend': 0},\n",
       "  'qualities': {'brightness': 0,\n",
       "   'intensity': 0,\n",
       "   'pitch': 0,\n",
       "   'pitch_vibrato': 0,\n",
       "   'harmonic': 0,\n",
       "   'harmonics_raw': 0}},\n",
       " Message('note_on', channel=15, note=60, velocity=64, time=0))"
      ]
     },
     "execution_count": 19,
     "metadata": {},
     "output_type": "execute_result"
    }
   ],
   "source": [
    "mrp.note_on(note, velocity)"
   ]
  },
  {
   "cell_type": "code",
   "execution_count": 9,
   "id": "261198e9-dc20-413e-b86e-d3494ccc3ebf",
   "metadata": {},
   "outputs": [],
   "source": [
    "mrp.quality_brightness(note, 0)\n",
    "mrp.quality_intensity(note, 0)\n",
    "mrp.quality_pitch(note, 0)\n",
    "mrp.quality_pitch_vibrato(note, 0)\n",
    "mrp.quality_harmonic(note, 0)\n",
    "mrp.quality_harmonics_raw(note, [0,0,0])"
   ]
  },
  {
   "cell_type": "code",
   "execution_count": 20,
   "id": "edc2b32d-4aad-488b-8425-5608752a44f1",
   "metadata": {},
   "outputs": [
    {
     "name": "stdout",
     "output_type": "stream",
     "text": [
      "/mrp/midi 143 60 0\n"
     ]
    },
    {
     "data": {
      "text/plain": [
       "({'channel': 15,\n",
       "  'status': False,\n",
       "  'midi': {'note': 60,\n",
       "   'velocity': 0,\n",
       "   'aftertouch_poly': 0,\n",
       "   'aftertouch_channel': 0,\n",
       "   'pitch_bend': 0},\n",
       "  'qualities': {'brightness': 0,\n",
       "   'intensity': 0,\n",
       "   'pitch': 0,\n",
       "   'pitch_vibrato': 0,\n",
       "   'harmonic': 0,\n",
       "   'harmonics_raw': 0}},\n",
       " Message('note_off', channel=15, note=60, velocity=0, time=0))"
      ]
     },
     "execution_count": 20,
     "metadata": {},
     "output_type": "execute_result"
    }
   ],
   "source": [
    "mrp.note_off(note,0)"
   ]
  },
  {
   "cell_type": "code",
   "execution_count": null,
   "id": "88385e06-c6f1-40c4-b72b-9882d91ee0fe",
   "metadata": {},
   "outputs": [],
   "source": [
    "mrp.notes[0]"
   ]
  },
  {
   "cell_type": "code",
   "execution_count": null,
   "id": "41acec63-a0ad-4bce-929a-311efb2de33d",
   "metadata": {},
   "outputs": [],
   "source": [
    "mrp.init_notes()"
   ]
  },
  {
   "cell_type": "code",
   "execution_count": null,
   "id": "08987ca2-5370-4969-a0bf-d2a3b0b8a499",
   "metadata": {},
   "outputs": [],
   "source": [
    "channel = 15\n",
    "note = 60\n",
    "velocity = 64\n",
    "m = mido.Message(\n",
    "        'note_on',\n",
    "        channel=channel,\n",
    "        note=note,\n",
    "        velocity=velocity\n",
    "    )"
   ]
  },
  {
   "cell_type": "code",
   "execution_count": null,
   "id": "1c95b325-a701-489a-800d-8c52bcc6863e",
   "metadata": {},
   "outputs": [],
   "source": [
    "m.note"
   ]
  },
  {
   "cell_type": "markdown",
   "id": "baf13c13-798f-4d1f-9ffa-90a99eadc2c4",
   "metadata": {
    "jp-MarkdownHeadingCollapsed": true,
    "tags": []
   },
   "source": [
    "# MRP XML\n",
    "- Docs: https://docs.python.org/3/library/xml.etree.elementtree.html"
   ]
  },
  {
   "cell_type": "code",
   "execution_count": null,
   "id": "d2259e68-f5ff-47cc-8eac-e9fdac2d359b",
   "metadata": {},
   "outputs": [],
   "source": [
    "import xml.etree.ElementTree as ET\n",
    "tree = ET.parse('mrp-standard.xml')\n",
    "root = tree.getroot()"
   ]
  },
  {
   "cell_type": "code",
   "execution_count": null,
   "id": "ed004ac3-e470-40aa-b357-9c4e196a7b33",
   "metadata": {},
   "outputs": [],
   "source": [
    "root.tag"
   ]
  },
  {
   "cell_type": "code",
   "execution_count": null,
   "id": "155f5ffb-d253-48d5-b4ba-9019e5d33070",
   "metadata": {},
   "outputs": [],
   "source": [
    "root.attrib"
   ]
  },
  {
   "cell_type": "code",
   "execution_count": null,
   "id": "8f79e6d0-55ab-4672-80ef-3848a126c0a8",
   "metadata": {},
   "outputs": [],
   "source": [
    "root[0][1].text"
   ]
  },
  {
   "cell_type": "code",
   "execution_count": null,
   "id": "34952e2f-b4bf-4ea6-973b-e1a85edd7f5a",
   "metadata": {},
   "outputs": [],
   "source": [
    "for child in root:\n",
    "    print(child.tag, child.attrib)"
   ]
  },
  {
   "cell_type": "code",
   "execution_count": null,
   "id": "1dbd10ef-12be-4e27-aaba-109fcd66210f",
   "metadata": {},
   "outputs": [],
   "source": []
  }
 ],
 "metadata": {
  "kernelspec": {
   "display_name": "iil-python-tools-kernel",
   "language": "python",
   "name": "iil-python-tools-kernel"
  },
  "language_info": {
   "codemirror_mode": {
    "name": "ipython",
    "version": 3
   },
   "file_extension": ".py",
   "mimetype": "text/x-python",
   "name": "python",
   "nbconvert_exporter": "python",
   "pygments_lexer": "ipython3",
   "version": "3.10.5"
  }
 },
 "nbformat": 4,
 "nbformat_minor": 5
}
