{
 "cells": [
  {
   "cell_type": "code",
   "execution_count": 542,
   "id": "81b8e040-a39e-4dbd-9d3e-fd0cf23e82d9",
   "metadata": {},
   "outputs": [],
   "source": [
    "import random\n",
    "import itertools as it\n",
    "from pathlib import Path\n",
    "\n",
    "import mido\n",
    "from tqdm import tqdm\n",
    "from matplotlib import pyplot as plt\n",
    "import seaborn as sns\n",
    "\n",
    "import torch\n",
    "from torch import nn\n",
    "import torch.nn.functional as F\n",
    "\n",
    "import geotorch"
   ]
  },
  {
   "cell_type": "code",
   "execution_count": 292,
   "id": "b79a0425-5235-41e6-994e-6332244286ce",
   "metadata": {},
   "outputs": [],
   "source": [
    "data_dir = Path('/Users/victor/Downloads/lmd_full')"
   ]
  },
  {
   "cell_type": "code",
   "execution_count": 474,
   "id": "5a8c2815-77e3-4537-8ff4-b55e0c409f90",
   "metadata": {},
   "outputs": [],
   "source": [
    "files = list(data_dir.glob('**/*.mid'))"
   ]
  },
  {
   "cell_type": "code",
   "execution_count": 741,
   "id": "26cf8e65-6509-4799-b735-f0cdae13911f",
   "metadata": {},
   "outputs": [
    {
     "name": "stdout",
     "output_type": "stream",
     "text": [
      "10.9 ms ± 913 µs per loop (mean ± std. dev. of 7 runs, 100 loops each)\n"
     ]
    }
   ],
   "source": [
    "# %%timeit\n",
    "# for _ in range(32):\n",
    "#     f = open(random.choice(files), 'rb')\n",
    "#     data = f.read()"
   ]
  },
  {
   "cell_type": "code",
   "execution_count": 743,
   "id": "9718e611-1ab1-4d81-b287-6c1045617cc2",
   "metadata": {},
   "outputs": [
    {
     "name": "stdout",
     "output_type": "stream",
     "text": [
      "2.31 s ± 262 ms per loop (mean ± std. dev. of 7 runs, 1 loop each)\n"
     ]
    }
   ],
   "source": [
    "# %%timeit\n",
    "# for _ in range(32):\n",
    "#     mido.MidiFile(random.choice(files))"
   ]
  },
  {
   "cell_type": "code",
   "execution_count": 493,
   "id": "fe01a1ee-c47d-4dbc-9fe2-a8c4749b2acc",
   "metadata": {},
   "outputs": [
    {
     "data": {
      "text/plain": [
       "178561"
      ]
     },
     "execution_count": 493,
     "metadata": {},
     "output_type": "execute_result"
    }
   ],
   "source": [
    "len(files)"
   ]
  },
  {
   "cell_type": "code",
   "execution_count": 703,
   "id": "aa4a306c-7718-4cec-84d2-21754e668d27",
   "metadata": {},
   "outputs": [],
   "source": [
    "random.shuffle(files)"
   ]
  },
  {
   "cell_type": "code",
   "execution_count": 495,
   "id": "43b84a85-62de-48b7-9536-341390b11001",
   "metadata": {},
   "outputs": [],
   "source": [
    "min_len = 64"
   ]
  },
  {
   "cell_type": "code",
   "execution_count": 704,
   "id": "45d3c47c-4d06-4e77-a486-6cf259ca1416",
   "metadata": {},
   "outputs": [
    {
     "name": "stderr",
     "output_type": "stream",
     "text": [
      "10000it [30:09,  5.53it/s]\n"
     ]
    }
   ],
   "source": [
    "# takes about 30 min to do 10000 files\n",
    "seqs = []\n",
    "for f in tqdm(it.islice(files, 10000)):\n",
    "    try:\n",
    "        mid = mido.MidiFile(f)\n",
    "    except Exception:\n",
    "        continue\n",
    "    for tr in mid.tracks:\n",
    "        seq = [m.note for m in tr if m.type=='note_on' and m.velocity]\n",
    "        if len(seq) > min_len:\n",
    "            seqs.append(seq)"
   ]
  },
  {
   "cell_type": "code",
   "execution_count": 705,
   "id": "3b6cd721-ef7e-46c5-8002-44c1356a4dcc",
   "metadata": {},
   "outputs": [
    {
     "data": {
      "text/plain": [
       "43545"
      ]
     },
     "execution_count": 705,
     "metadata": {},
     "output_type": "execute_result"
    }
   ],
   "source": [
    "len(seqs)"
   ]
  },
  {
   "cell_type": "code",
   "execution_count": 571,
   "id": "774f4615-774b-4b98-a58a-a78119091225",
   "metadata": {},
   "outputs": [],
   "source": [
    "# mid = mido.MidiFile(random.choice(files))"
   ]
  },
  {
   "cell_type": "code",
   "execution_count": 570,
   "id": "5735afe4-038a-4843-aca2-fa91a6e0175a",
   "metadata": {},
   "outputs": [],
   "source": [
    "# [m for m in mid.tracks[2] if m.type=='note_on' and m.velocity]"
   ]
  },
  {
   "cell_type": "code",
   "execution_count": 503,
   "id": "cb8da865-67a5-4d47-b8bb-c9ff884155d5",
   "metadata": {},
   "outputs": [],
   "source": [
    "# %%timeit\n",
    "# for _ in range(100):\n",
    "#     try:\n",
    "#         mid = mido.MidiFile(random.choice(files))\n",
    "#     except:\n",
    "#         continue"
   ]
  },
  {
   "cell_type": "code",
   "execution_count": 706,
   "id": "7a73b169-a796-4c08-b52e-45702fb323f2",
   "metadata": {},
   "outputs": [],
   "source": [
    "# def gen_tracks(batch_len=100):\n",
    "#     while True:\n",
    "#         try:\n",
    "#             mid = mido.MidiFile(random.choice(files))\n",
    "#         except Exception:\n",
    "#             continue\n",
    "#         trs = [tr for tr in mid.tracks if len(tr) > batch_len*2]\n",
    "#         if len(trs)==0:\n",
    "#             continue\n",
    "#         random.shuffle(trs)\n",
    "#         for tr in trs:\n",
    "#             notes = [m.note for m in tr if m.type=='note_on']\n",
    "#             if len(notes) > batch_len:\n",
    "#                 i = random.randint(0, len(notes)-batch_len-1)\n",
    "#                 yield notes[i:i+batch_len]\n",
    "#                 break\n",
    "                \n",
    "# class LakhMIDI(torch.utils.data.IterableDataset):\n",
    "#     def __init__(self, batch_len):\n",
    "#         super().__init__()\n",
    "#         self.batch_len = batch_len\n",
    "        \n",
    "#     def __iter__(self):\n",
    "#         return gen_tracks(self.batch_len)\n",
    "\n",
    "class LakhMIDI(torch.utils.data.IterableDataset):\n",
    "    def __init__(self, seqs, batch_len=None):\n",
    "        super().__init__()\n",
    "        self.seqs = seqs\n",
    "        self.batch_len = batch_len\n",
    "        \n",
    "    def __iter__(self):\n",
    "        return self\n",
    "    \n",
    "    def __next__(self):\n",
    "        while True:\n",
    "            notes = random.choice(self.seqs)\n",
    "            if len(notes) > self.batch_len:\n",
    "                i = random.randint(0, len(notes)-self.batch_len-1)\n",
    "                return notes[i:i+self.batch_len]"
   ]
  },
  {
   "cell_type": "code",
   "execution_count": 707,
   "id": "476a319c-8fa2-4a87-a69d-dd96d94cb766",
   "metadata": {},
   "outputs": [],
   "source": [
    "dl = torch.utils.data.DataLoader(LakhMIDI(seqs, 64), batch_size=32, num_workers=0, collate_fn=torch.LongTensor)"
   ]
  },
  {
   "cell_type": "code",
   "execution_count": 708,
   "id": "093c8d3b-ba0a-4a05-afbf-1ec88536080d",
   "metadata": {},
   "outputs": [
    {
     "data": {
      "text/plain": [
       "torch.Size([32, 64])"
      ]
     },
     "execution_count": 708,
     "metadata": {},
     "output_type": "execute_result"
    }
   ],
   "source": [
    "next(iter(dl)).shape"
   ]
  },
  {
   "cell_type": "code",
   "execution_count": 535,
   "id": "2edec5b4-05eb-454b-ba6b-a9f83a1d3dbd",
   "metadata": {},
   "outputs": [],
   "source": [
    "# %%prun\n",
    "# list(it.islice(gen_tracks(64), 32))"
   ]
  },
  {
   "cell_type": "code",
   "execution_count": 421,
   "id": "7f434550-6e47-4e58-ba63-94074f4d96cf",
   "metadata": {},
   "outputs": [],
   "source": [
    "# logits = torch.randn(32,64,128)\n",
    "# c = torch.randint(0, 128, (32,64))"
   ]
  },
  {
   "cell_type": "code",
   "execution_count": 422,
   "id": "86c789e1-791b-4ac1-9f1a-b4471603d427",
   "metadata": {},
   "outputs": [],
   "source": [
    "# %%timeit\n",
    "# F.nll_loss(logits.transpose(1,2), c)"
   ]
  },
  {
   "cell_type": "code",
   "execution_count": 423,
   "id": "a2f4fd91-cca3-4d4f-b603-4fa8da8aea10",
   "metadata": {},
   "outputs": [],
   "source": [
    "# %%timeit\n",
    "# -logits.gather(-1, c[...,None]).mean()"
   ]
  },
  {
   "cell_type": "code",
   "execution_count": 424,
   "id": "24a8de28-2b40-400b-9381-48f0a500a3a3",
   "metadata": {},
   "outputs": [],
   "source": [
    "# %%timeit\n",
    "# F.log_softmax(logits, -1)"
   ]
  },
  {
   "cell_type": "code",
   "execution_count": 425,
   "id": "80a93342-b8bf-4b65-a36d-078bd25eeca7",
   "metadata": {},
   "outputs": [],
   "source": [
    "# %%timeit\n",
    "# logits - logits.logsumexp(-1, keepdim=True)"
   ]
  },
  {
   "cell_type": "code",
   "execution_count": 709,
   "id": "b8c02a3f-0974-46f9-ad4f-9f494ae34899",
   "metadata": {},
   "outputs": [],
   "source": [
    "class PitchPredictor(nn.Module):\n",
    "    def __init__(self, emb_size=128, hidden_size=512, domain_size=128):\n",
    "        super().__init__()\n",
    "        self.emb = nn.Embedding(domain_size, emb_size)\n",
    "        self.proj = nn.Linear(hidden_size, domain_size)\n",
    "        \n",
    "        self.rnn = nn.GRU(emb_size, hidden_size, batch_first=True)\n",
    "        self.rnn_cell = nn.GRUCell(emb_size, hidden_size)\n",
    "        self.rnn_cell.weight_ih = self.rnn.weight_ih_l0\n",
    "        self.rnn_cell.weight_hh = self.rnn.weight_hh_l0\n",
    "        self.rnn_cell.bias_ih = self.rnn.bias_ih_l0\n",
    "        self.rnn_cell.bias_hh = self.rnn.bias_hh_l0\n",
    "        \n",
    "        self.h0 = torch.nn.Parameter(torch.randn(1,hidden_size)*hidden_size**-0.5)\n",
    "        \n",
    "        self.h = None\n",
    "\n",
    "        \n",
    "    def forward(self, notes):\n",
    "        \"\"\"\n",
    "        Args:\n",
    "            notes: LongTensor[batch, time]\n",
    "        \"\"\"\n",
    "        x = self.emb(notes) # batch, time, emb_size\n",
    "        h, _ = self.rnn(x, self.h0[None].expand(1, x.shape[0], -1)) #batch, time, hidden_size\n",
    "        logits = self.proj(h[:,:-1]) # batch, time-1, 128\n",
    "        logits = F.log_softmax(logits, -1) # logits = logits - logits.logsumexp(-1, keepdim=True)\n",
    "        targets = notes[:,1:,None] #batch, time-1, 1\n",
    "        return {\n",
    "            'log_probs': logits.gather(-1, targets)[...,0],\n",
    "            'logits': logits\n",
    "        }\n",
    "    \n",
    "    def predict(self, note, sample=True):\n",
    "        \"\"\"\n",
    "        Args:\n",
    "            note: int\n",
    "            sample: bool\n",
    "        Returns:\n",
    "            int if `sample` else Tensor[domain_size]\n",
    "        \"\"\"\n",
    "        note = torch.LongTensor([note]) # 1\n",
    "        x = self.emb(note) # 1, emb_size\n",
    "        \n",
    "        if self.h is None:\n",
    "            self.h = self.h0.detach().clone()\n",
    "        \n",
    "        self.h = self.rnn_cell(x, self.h)\n",
    "        \n",
    "        logits = self.proj(self.h) # 1, 128\n",
    "        \n",
    "        ret = logits[0].softmax(0)\n",
    "        if sample:\n",
    "            ret = ret.multinomial(1).item()\n",
    "        return ret\n",
    "    \n",
    "    def reset(self):\n",
    "        \"\"\"\n",
    "        resets internal model state.\n",
    "        \"\"\"\n",
    "        self.h = None\n",
    "        "
   ]
  },
  {
   "cell_type": "code",
   "execution_count": 710,
   "id": "ea23aea6-1629-4d1c-b1be-0865f8a07e9d",
   "metadata": {},
   "outputs": [],
   "source": [
    "net = PitchPredictor()"
   ]
  },
  {
   "cell_type": "code",
   "execution_count": 711,
   "id": "cf27f2fa-ba92-4f65-a7aa-45c52aa824aa",
   "metadata": {},
   "outputs": [],
   "source": [
    "# r = net(notes_t)\n",
    "# r['log_probs'].shape"
   ]
  },
  {
   "cell_type": "code",
   "execution_count": 712,
   "id": "7c30fb50-44a0-4d56-93ee-a41e978a866f",
   "metadata": {},
   "outputs": [],
   "source": [
    "opt = torch.optim.Adam(net.parameters(), 1e-3)\n",
    "losses = []"
   ]
  },
  {
   "cell_type": "code",
   "execution_count": 713,
   "id": "4a0d4ace-f235-4662-aec0-a436c5a8ccc3",
   "metadata": {},
   "outputs": [
    {
     "name": "stderr",
     "output_type": "stream",
     "text": [
      "1024it [05:57,  2.86it/s]\n"
     ]
    },
    {
     "data": {
      "text/plain": [
       "[<matplotlib.lines.Line2D at 0x281beb940>]"
      ]
     },
     "execution_count": 713,
     "metadata": {},
     "output_type": "execute_result"
    },
    {
     "data": {
      "image/png": "[encoded data removed]",
      "text/plain": [
       "<Figure size 432x288 with 1 Axes>"
      ]
     },
     "metadata": {
      "needs_background": "light"
     },
     "output_type": "display_data"
    }
   ],
   "source": [
    "# %%prun\n",
    "\n",
    "batch_size = 32\n",
    "batch_len = 64\n",
    "\n",
    "for batch in tqdm(it.islice(dl,1024)):\n",
    "    # batch = torch.LongTensor([notes for notes in it.islice(gen_tracks(batch_len), batch_size)])\n",
    "    opt.zero_grad()\n",
    "    r = net(batch)\n",
    "    nll = (-r['log_probs']).mean()\n",
    "    nll.backward()\n",
    "    opt.step()\n",
    "    losses.append(nll.item())\n",
    "plt.plot(losses)"
   ]
  },
  {
   "cell_type": "code",
   "execution_count": 745,
   "id": "ea258bbe-427b-49e6-8fa2-8c3aab92475c",
   "metadata": {},
   "outputs": [
    {
     "data": {
      "text/plain": [
       "\u001b[0;31mSignature:\u001b[0m\n",
       "\u001b[0mtorch\u001b[0m\u001b[0;34m.\u001b[0m\u001b[0msave\u001b[0m\u001b[0;34m(\u001b[0m\u001b[0;34m\u001b[0m\n",
       "\u001b[0;34m\u001b[0m    \u001b[0mobj\u001b[0m\u001b[0;34m,\u001b[0m\u001b[0;34m\u001b[0m\n",
       "\u001b[0;34m\u001b[0m    \u001b[0mf\u001b[0m\u001b[0;34m:\u001b[0m \u001b[0mUnion\u001b[0m\u001b[0;34m[\u001b[0m\u001b[0mstr\u001b[0m\u001b[0;34m,\u001b[0m \u001b[0mos\u001b[0m\u001b[0;34m.\u001b[0m\u001b[0mPathLike\u001b[0m\u001b[0;34m,\u001b[0m \u001b[0mBinaryIO\u001b[0m\u001b[0;34m,\u001b[0m \u001b[0mIO\u001b[0m\u001b[0;34m[\u001b[0m\u001b[0mbytes\u001b[0m\u001b[0;34m]\u001b[0m\u001b[0;34m]\u001b[0m\u001b[0;34m,\u001b[0m\u001b[0;34m\u001b[0m\n",
       "\u001b[0;34m\u001b[0m    \u001b[0mpickle_module\u001b[0m\u001b[0;34m=\u001b[0m\u001b[0;34m<\u001b[0m\u001b[0mmodule\u001b[0m \u001b[0;34m'pickle'\u001b[0m \u001b[0;32mfrom\u001b[0m \u001b[0;34m'/Users/victor/anaconda3/envs/event-predictor/lib/python3.9/pickle.py'\u001b[0m\u001b[0;34m>\u001b[0m\u001b[0;34m,\u001b[0m\u001b[0;34m\u001b[0m\n",
       "\u001b[0;34m\u001b[0m    \u001b[0mpickle_protocol\u001b[0m\u001b[0;34m=\u001b[0m\u001b[0;36m2\u001b[0m\u001b[0;34m,\u001b[0m\u001b[0;34m\u001b[0m\n",
       "\u001b[0;34m\u001b[0m    \u001b[0m_use_new_zipfile_serialization\u001b[0m\u001b[0;34m=\u001b[0m\u001b[0;32mTrue\u001b[0m\u001b[0;34m,\u001b[0m\u001b[0;34m\u001b[0m\n",
       "\u001b[0;34m\u001b[0m\u001b[0;34m)\u001b[0m \u001b[0;34m->\u001b[0m \u001b[0;32mNone\u001b[0m\u001b[0;34m\u001b[0m\u001b[0;34m\u001b[0m\u001b[0m\n",
       "\u001b[0;31mDocstring:\u001b[0m\n",
       "save(obj, f, pickle_module=pickle, pickle_protocol=DEFAULT_PROTOCOL, _use_new_zipfile_serialization=True)\n",
       "\n",
       "Saves an object to a disk file.\n",
       "\n",
       "See also: :ref:`saving-loading-tensors`\n",
       "\n",
       "Args:\n",
       "    obj: saved object\n",
       "    f: a file-like object (has to implement write and flush) or a string or\n",
       "       os.PathLike object containing a file name\n",
       "    pickle_module: module used for pickling metadata and objects\n",
       "    pickle_protocol: can be specified to override the default protocol\n",
       "\n",
       ".. note::\n",
       "    A common PyTorch convention is to save tensors using .pt file extension.\n",
       "\n",
       ".. note::\n",
       "    PyTorch preserves storage sharing across serialization. See\n",
       "    :ref:`preserve-storage-sharing` for more details.\n",
       "\n",
       ".. note::\n",
       "    The 1.6 release of PyTorch switched ``torch.save`` to use a new\n",
       "    zipfile-based file format. ``torch.load`` still retains the ability to\n",
       "    load files in the old format. If for any reason you want ``torch.save``\n",
       "    to use the old format, pass the kwarg ``_use_new_zipfile_serialization=False``.\n",
       "\n",
       "Example:\n",
       "    >>> # Save to file\n",
       "    >>> x = torch.tensor([0, 1, 2, 3, 4])\n",
       "    >>> torch.save(x, 'tensor.pt')\n",
       "    >>> # Save to io.BytesIO buffer\n",
       "    >>> buffer = io.BytesIO()\n",
       "    >>> torch.save(x, buffer)\n",
       "\u001b[0;31mFile:\u001b[0m      ~/anaconda3/envs/event-predictor/lib/python3.9/site-packages/torch/serialization.py\n",
       "\u001b[0;31mType:\u001b[0m      function\n"
      ]
     },
     "metadata": {},
     "output_type": "display_data"
    }
   ],
   "source": [
    "torch.save?"
   ]
  },
  {
   "cell_type": "code",
   "execution_count": null,
   "id": "6a759b34-55dd-45ae-8440-ec82d644ad21",
   "metadata": {},
   "outputs": [],
   "source": [
    "torch.save(net.state_dict()"
   ]
  },
  {
   "cell_type": "code",
   "execution_count": 714,
   "id": "87a038d9-0166-44c3-8e1c-e0f942139ef8",
   "metadata": {},
   "outputs": [
    {
     "name": "stdout",
     "output_type": "stream",
     "text": [
      "CPU times: user 31.3 s, sys: 815 ms, total: 32.1 s\n",
      "Wall time: 32.7 s\n"
     ]
    },
    {
     "data": {
      "text/plain": [
       "0.27318744628163827"
      ]
     },
     "execution_count": 714,
     "metadata": {},
     "output_type": "execute_result"
    }
   ],
   "source": [
    "%%time\n",
    "acc = 0\n",
    "m = 64\n",
    "for _ in range(m):\n",
    "    notes = random.choice(seqs)\n",
    "    n = len(notes)-1\n",
    "    net.reset()\n",
    "    acc += sum(net.predict(notes[i])==notes[i+1] for i in range(n))/n\n",
    "acc/m"
   ]
  },
  {
   "cell_type": "code",
   "execution_count": 715,
   "id": "4b7178b8-f245-4315-8ba2-a4868dca5c5e",
   "metadata": {},
   "outputs": [
    {
     "data": {
      "text/plain": [
       "0.7525088988402802"
      ]
     },
     "execution_count": 715,
     "metadata": {},
     "output_type": "execute_result"
    }
   ],
   "source": [
    "batch_size*len(losses) / len(seqs)"
   ]
  },
  {
   "cell_type": "code",
   "execution_count": 716,
   "id": "bacb407e-2504-4602-a313-b3f12a733ab9",
   "metadata": {},
   "outputs": [
    {
     "name": "stdout",
     "output_type": "stream",
     "text": [
      "407 µs ± 22 µs per loop (mean ± std. dev. of 7 runs, 1000 loops each)\n"
     ]
    }
   ],
   "source": [
    "%%timeit\n",
    "net.predict(0)"
   ]
  },
  {
   "cell_type": "code",
   "execution_count": 717,
   "id": "9428af18-497f-45c6-ba00-bae1771ab4d5",
   "metadata": {},
   "outputs": [],
   "source": [
    "net_probs = []\n",
    "for a in range(128):\n",
    "    net.reset()\n",
    "    b = net.predict(a, sample=False)\n",
    "    net_probs.append(b)\n",
    "net_probs = torch.stack(net_probs, 0)"
   ]
  },
  {
   "cell_type": "code",
   "execution_count": 718,
   "id": "a0d14e2e-afb6-408f-906a-8a6f678a67ad",
   "metadata": {},
   "outputs": [
    {
     "data": {
      "text/plain": [
       "Text(0.5, 1.0, 'P(b|a)')"
      ]
     },
     "execution_count": 718,
     "metadata": {},
     "output_type": "execute_result"
    },
    {
     "data": {
      "image/png": "[encoded data removed]",
      "text/plain": [
       "<Figure size 432x288 with 1 Axes>"
      ]
     },
     "metadata": {
      "needs_background": "light"
     },
     "output_type": "display_data"
    }
   ],
   "source": [
    "plt.imshow(net_probs.data, origin='lower', interpolation='nearest')\n",
    "plt.ylabel('a')\n",
    "plt.xlabel('b')\n",
    "plt.title('P(b|a)')"
   ]
  },
  {
   "cell_type": "markdown",
   "id": "9c40b925-2b16-482f-a1f7-cce5c53e1749",
   "metadata": {},
   "source": [
    "# unigram baseline"
   ]
  },
  {
   "cell_type": "code",
   "execution_count": 719,
   "id": "9f445e70-9d0e-47ab-9caa-26f7f34942d6",
   "metadata": {},
   "outputs": [],
   "source": [
    "counts = torch.zeros(128,128).long()\n",
    "for s in seqs:\n",
    "    counts[s[:-1], s[1:]] += 1"
   ]
  },
  {
   "cell_type": "code",
   "execution_count": 727,
   "id": "f5e19446-1972-414d-a2cf-195824e79f7d",
   "metadata": {},
   "outputs": [
    {
     "data": {
      "text/plain": [
       "Text(0.5, 1.0, 'P(b|a)')"
      ]
     },
     "execution_count": 727,
     "metadata": {},
     "output_type": "execute_result"
    },
    {
     "data": {
      "image/png": "[encoded data removed]",
      "text/plain": [
       "<Figure size 432x288 with 1 Axes>"
      ]
     },
     "metadata": {
      "needs_background": "light"
     },
     "output_type": "display_data"
    }
   ],
   "source": [
    "#P(b|a)\n",
    "probs = counts / counts.sum(1,keepdims=True)\n",
    "probs#[40:60, 40:60]\n",
    "plt.imshow(probs, origin='lower', interpolation='nearest')\n",
    "plt.ylabel('a')\n",
    "plt.xlabel('b')\n",
    "plt.title('P(b|a)')"
   ]
  },
  {
   "cell_type": "code",
   "execution_count": 728,
   "id": "ce6ab496-c2ca-430e-b2f8-bf67e61d4130",
   "metadata": {},
   "outputs": [
    {
     "data": {
      "text/plain": [
       "<BarContainer object of 128 artists>"
      ]
     },
     "execution_count": 728,
     "metadata": {},
     "output_type": "execute_result"
    },
    {
     "data": {
      "image/png": "[encoded data removed]",
      "text/plain": [
       "<Figure size 432x288 with 1 Axes>"
      ]
     },
     "metadata": {
      "needs_background": "light"
     },
     "output_type": "display_data"
    }
   ],
   "source": [
    "marg = counts.sum(1) / counts.sum()\n",
    "plt.bar(range(128), marg, width=1)"
   ]
  },
  {
   "cell_type": "code",
   "execution_count": 729,
   "id": "91021964-97b1-4069-aa15-8253978fe488",
   "metadata": {},
   "outputs": [
    {
     "data": {
      "text/plain": [
       "tensor(0.0655)"
      ]
     },
     "execution_count": 729,
     "metadata": {},
     "output_type": "execute_result"
    }
   ],
   "source": [
    "# baseline accuracy\n",
    "(probs.max(1).values * marg).sum()"
   ]
  },
  {
   "cell_type": "code",
   "execution_count": 730,
   "id": "815aacce-15c3-4901-badf-6048730bc8fb",
   "metadata": {},
   "outputs": [
    {
     "data": {
      "text/plain": [
       "<BarContainer object of 128 artists>"
      ]
     },
     "execution_count": 730,
     "metadata": {},
     "output_type": "execute_result"
    },
    {
     "data": {
      "image/png": "[encoded data removed]",
      "text/plain": [
       "<Figure size 432x288 with 1 Axes>"
      ]
     },
     "metadata": {
      "needs_background": "light"
     },
     "output_type": "display_data"
    }
   ],
   "source": [
    "plt.bar(range(128), probs.max(1).values, width=1)"
   ]
  },
  {
   "cell_type": "code",
   "execution_count": null,
   "id": "91f486e2-9ce0-4056-99e5-ecd251e8af46",
   "metadata": {},
   "outputs": [],
   "source": []
  }
 ],
 "metadata": {
  "kernelspec": {
   "display_name": "event-predictor",
   "language": "python",
   "name": "event-predictor"
  },
  "language_info": {
   "codemirror_mode": {
    "name": "ipython",
    "version": 3
   },
   "file_extension": ".py",
   "mimetype": "text/x-python",
   "name": "python",
   "nbconvert_exporter": "python",
   "pygments_lexer": "ipython3",
   "version": "3.9.7"
  }
 },
 "nbformat": 4,
 "nbformat_minor": 5
}
